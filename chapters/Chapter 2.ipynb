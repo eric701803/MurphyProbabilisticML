{
 "cells": [
  {
   "cell_type": "code",
   "execution_count": 4,
   "metadata": {
    "collapsed": false
   },
   "outputs": [],
   "source": [
    "%matplotlib inline\n",
    "import numpy as np\n",
    "import pandas as pd\n",
    "import matplotlib.pyplot as plt\n",
    "import matplotlib.mlab as mlab\n",
    "from scipy import stats"
   ]
  },
  {
   "cell_type": "code",
   "execution_count": 2,
   "metadata": {
    "collapsed": true
   },
   "outputs": [],
   "source": [
    "def plot_dist(dist, xmin, xmax, ax):\n",
    "    x = np.linspace(xmin, xmax, 1000)\n",
    "    y = dist.pdf(x)\n",
    "    ax.plot(x,y)\n",
    "    ax.set_ylim(0,y.max() + y.max()/4.0)"
   ]
  },
  {
   "cell_type": "markdown",
   "metadata": {},
   "source": [
    "# Chapter 2 - Probability\n",
    "\n",
    "This chapter introduces probability theory (and the differences between frequentists and baysians), some common statistics and examples of discrete and continous distributions. It also presents transformation of variables, monte carlo methods and information theory."
   ]
  },
  {
   "cell_type": "markdown",
   "metadata": {},
   "source": [
    "## Rules of probability\n",
    "\n",
    "### Sum rule\n",
    "The probability of the conjunction of two events (or assertions) is given by: \n",
    "\n",
    "$$p(A\\ or\\ B) = p(A) + p(B) - p(A\\ and\\ B)$$\n",
    "\n",
    "### Product rule\n",
    "The probability of the event $A$ and $B$ is given by:\n",
    "\n",
    "$$p(A\\ and\\ B) = p(A|B)p(B)$$ \n",
    "\n",
    "### Conditional\n",
    "The probability of the event $A$ given that the event $B$ is true is given by:\n",
    "\n",
    "\n",
    "$$p(A|B) = \\frac{p(A\\ and\\ B)}{p(B)}$$\n",
    "\n",
    "### Bayes rule\n",
    "The Bayes rule is:\n",
    "\n",
    "$$p(X|Y) = \\frac{p(X)p(Y|X)}{p(Y)}$$\n",
    "\n",
    "This can be derived from the sum and the product rule"
   ]
  },
  {
   "cell_type": "markdown",
   "metadata": {},
   "source": [
    "## Independence\n",
    "\n",
    "The events $A$ and $B$ are independent if:\n",
    "    \n",
    "$$p(A\\ and\\ B) = p(A)p(B)$$\n",
    "\n",
    "Note that this is basically the product rule, with the condition that $p(A|B) = p(A)$."
   ]
  },
  {
   "cell_type": "markdown",
   "metadata": {},
   "source": [
    "## Continuous random variables\n",
    "\n",
    "To deal with continuous random variables we define $F(x) = p(X\\leq x)$. This means that:\n",
    "\n",
    "$$p(a < X \\leq b) = F(b) - F(a)$$"
   ]
  },
  {
   "cell_type": "markdown",
   "metadata": {},
   "source": [
    "## Common Statistics\n",
    "\n",
    "### Quantiles\n",
    "\n",
    "The $\\alpha$ quantile of a cdf $F$, denoted $F^{-1}(\\alpha)$, is the value $x_\\alpha$ such that\n",
    "\n",
    "$$F(x_\\alpha) = P(X \\leq x_\\alpha) = \\alpha$$\n",
    "\n",
    "The value $F^{-1}(0.5)$ is the **median** of the distribution.\n",
    "\n",
    "### Mean\n",
    "\n",
    "The **mean** or **expected value** of a discrete distribution, commonly denoted by $\\mu$, is defined as\n",
    "\n",
    "$$\\mathbb{E}[X] = \\sum_{x\\in\\mathcal{X}}x~p(x)$$\n",
    "\n",
    "Whereas for a continuous distribution, the mean is defined as\n",
    "\n",
    "$$\\mathbb{E}[X] = \\int_{\\mathcal{X}}x~p(x)$$\n",
    "\n",
    "### Variance\n",
    "\n",
    "The **variance**, denoted by $\\sigma^2$, is measure of the \"spread\" of a distribution, defined as\n",
    "\n",
    "$$\\sigma^2 = \\mathrm{var}[X] = \\mathbb{E}{(X-\\mu)^2}$$\n",
    "\n",
    "where $\\mu = \\mathbb{E}[X]$. A useful result is\n",
    "\n",
    "$$\\mathbb{E}[X^2] = \\sigma^2 + \\mu^2$$\n",
    "\n",
    "The **standard deviation** is defined as $\\mathrm{std}[X] = \\sqrt{\\sigma^2} = \\sigma$"
   ]
  },
  {
   "cell_type": "markdown",
   "metadata": {},
   "source": [
    "### Covariance  and correlation"
   ]
  },
  {
   "cell_type": "markdown",
   "metadata": {},
   "source": [
    "The **covariance** between two random variable measures the degree which they are linearly related\n",
    "\n",
    "$$\\mathrm{cov}[X, Y] = \\mathbb{E}[(X - \\mathbb{E}[X])(Y - \\mathbb{E}[Y])] = \\mathbb{E}[XY] - \\mathbb{E}[X]\\mathbb{E}[Y]$$\n",
    "\n",
    "If $\\mathbf{x}$ is a d-dimensional vector, it covariance matrix is given by:\n",
    "\n",
    "$$\\mathrm{cov}[\\mathbf{x}] = \\mathbb{E}\\left[(X - \\mathbb{E}[X])(X - \\mathbb{E}[X])\\right] = $$\n",
    "\n",
    "$$= \\begin{bmatrix}\\mathrm{var}[X_1] & \\mathrm{cov}[X_1, X_2] & \\dots & \\mathrm{cov}[X_1, X_d] \\\\\n",
    "                   \\mathrm{cov}[X_2, X_1] & \\mathrm{var}[X_2] & \\dots & \\mathrm{cov}[X_2, X_d] \\\\\n",
    "                   \\vdots            & \\vdots                 & \\ddots & \\vdots                 \\\\\n",
    "                   \\mathrm{cov}[X_d, X_1] & \\mathrm{cov}[X_1, X_2] & \\dots & \\mathrm{var}[X_d] \\\\\n",
    "\\end{bmatrix}$$\n",
    "\n",
    "The **Pearson correlation coefficient** between two random variables $X$ and $Y$ is given by:\n",
    "\n",
    "$$\\mathrm{corr}\\left[X, Y\\right] = \\frac{\\mathrm{cov}\\left[X, Y\\right]}{\\sqrt{\\mathrm{var}[X]\\mathrm{var}[Y]}}$$"
   ]
  },
  {
   "cell_type": "markdown",
   "metadata": {},
   "source": [
    "## Common discrete distributions\n",
    "\n",
    "* Bernoulli:\n",
    "\n",
    "$$\\mathrm{Ber}(x~|~\\theta) =\n",
    "    \\left\\{\n",
    "    \\begin{array}{ll}\n",
    "\t\t\\theta  & \\mbox{if } x = 1 \\\\\n",
    "\t\t1-\\theta & \\mbox{if } x = 0\n",
    "\t\\end{array}\n",
    "    \\right.\n",
    "$$\n",
    "\n",
    " \n",
    "\n",
    "* Binomial:\n",
    "\n",
    "$$\\mathrm{Bin}(k~|~n,\\theta) = \\binom{n}{k}\\theta^k(1-\\theta)^{n-k}$$\n",
    "\n",
    "* Multinomial:\n",
    "\n",
    "$$\\mathrm{Mu}(x~|~n,\\theta) = \\binom{n}{x_1,...,x_K}\\prod_{j=1}^{K}\\theta_{j}^{x_j}$$\n",
    "\n",
    "the **multinomial coeffiecient** is defined as\n",
    "\n",
    "$$\\binom{n}{x_1,...,x_K} = \\frac{n!}{x_1! \\dots x_K!}$$\n",
    "\n",
    "* Poisson\n",
    "\n",
    "$$\\mathrm{Poi}(x~|~\\lambda) = e^{-\\lambda}\\frac{\\lambda^x}{x!}$$\n",
    "\n",
    "* Empirical distribution\n",
    "\n",
    "Given a dataset $\\mathcal{D} = \\{x_1, \\dots, x_N\\}$, the empirical distribution is defined as\n",
    "\n",
    "$$p_{\\mathrm{emp}}(A) = \\frac{1}{N}\\sum_{i=1}^{N}w_i \\delta_{x_i}(A)$$\n",
    "\n",
    "where $0\\leq w_i \\leq 1$ and $\\sum w_i = 1$"
   ]
  },
  {
   "cell_type": "markdown",
   "metadata": {},
   "source": [
    "## Common continuous distributions\n",
    "\n",
    "* Normal\n",
    "$$ P(x~|~\\mu, \\sigma^2) = \\frac{1}{\\sqrt{2\\pi\\sigma^2}}~e^{-\\frac{1}{2\\sigma^2}(x-\\mu)^2} $$\n"
   ]
  },
  {
   "cell_type": "code",
   "execution_count": 7,
   "metadata": {
    "collapsed": false
   },
   "outputs": [
    {
     "data": {
      "image/png": "[encoded data removed]",
      "text/plain": [
       "<matplotlib.figure.Figure at 0x7fba85afa4a8>"
      ]
     },
     "metadata": {},
     "output_type": "display_data"
    }
   ],
   "source": [
    "ax = plt.subplot(111)\n",
    "plot_dist(stats.norm, -4, 4, ax)"
   ]
  },
  {
   "cell_type": "markdown",
   "metadata": {},
   "source": [
    "* Laplace\n",
    "$$ P(x~|~\\mu, b) = \\frac{1}{2b}~\\exp\\left(-\\frac{|x-\\mu|}{b}\\right)$$"
   ]
  },
  {
   "cell_type": "code",
   "execution_count": 9,
   "metadata": {
    "collapsed": false
   },
   "outputs": [
    {
     "data": {
      "image/png": "[encoded data removed]",
      "text/plain": [
       "<matplotlib.figure.Figure at 0x7fba858e7908>"
      ]
     },
     "metadata": {},
     "output_type": "display_data"
    }
   ],
   "source": [
    "ax = plt.subplot(111)\n",
    "plot_dist(stats.laplace, -6, 6, ax)"
   ]
  },
  {
   "cell_type": "markdown",
   "metadata": {},
   "source": [
    "* Gamma\n",
    "$$ P(T~|~\\text{shape}=a,\\text{rate}=b) = \\frac{b^a}{\\Gamma(a)}~T^{a-1}e^{-Tb}$$\n",
    "\n",
    "Where\n",
    "$$\\Gamma(x) = \\int_{0}^{\\infty}u^{x-1}e^{-u}~\\mathrm{d}u$$"
   ]
  },
  {
   "cell_type": "code",
   "execution_count": 12,
   "metadata": {
    "collapsed": false
   },
   "outputs": [
    {
     "data": {
      "image/png": "[encoded data removed]",
      "text/plain": [
       "<matplotlib.figure.Figure at 0x7fba857a2358>"
      ]
     },
     "metadata": {},
     "output_type": "display_data"
    }
   ],
   "source": [
    "ax = plt.subplot(111)\n",
    "plot_dist(stats.gamma(1,2), 0, 6, ax)"
   ]
  },
  {
   "cell_type": "markdown",
   "metadata": {},
   "source": [
    "* Exponential\n",
    "$$P(x~|~\\lambda) = \\lambda e^{-\\lambda x}$$"
   ]
  },
  {
   "cell_type": "markdown",
   "metadata": {},
   "source": [
    "* Chi-squared\n",
    "\n",
    "$$P(x~|~\\nu) = Gamma\\left(x~\\Bigg|~\\frac{\\nu}{2}, \\frac{1}{2}\\right)$$"
   ]
  },
  {
   "cell_type": "markdown",
   "metadata": {},
   "source": [
    "* Beta\n",
    "$$P(x~|~a,b) = \\frac{1}{B(a,b)}x^{a-1}(1-x)^{b-1}$$\n",
    "\n",
    "Where\n",
    "$$B(a,b) = \\frac{\\Gamma(a)\\Gamma(b)}{\\Gamma(a+b)}$$"
   ]
  },
  {
   "cell_type": "markdown",
   "metadata": {},
   "source": [
    "* Pareto\n",
    "$$P(x~|~k,m) = km^kx^{-(k+1)}\\mathbb{I}(x\\geq m)$$\n",
    "\n",
    "* Student *t*\n",
    "$$P(x~|~\\nu) = \\frac{\\Gamma\\left(\\frac{\\nu + 1}{2}\\right)}{\\Gamma\\left(\\frac{\\nu}{2}\\right)\\sqrt{\\nu\\pi}}\\left(1 + \\frac{x^2}{\\nu}\\right)^{-\\frac{\\nu + 1}{2}}$$\n",
    "\n",
    "where $\\nu$ is the number of degrees of freedom"
   ]
  },
  {
   "cell_type": "markdown",
   "metadata": {},
   "source": [
    "## Joint probability distributions"
   ]
  },
  {
   "cell_type": "markdown",
   "metadata": {},
   "source": [
    "* Multivariate Normal\n",
    "$$P(\\mathbf{x}~|~\\mathbf{\\mu}, \\mathbf{\\Sigma}) = \\frac{1}{(2\\pi)^{D/2} \\left|\\mathbf{\\Sigma}\\right|^{1/2}} \\exp\\left[-\\frac{1}{2}(\\mathbf{x} - \\mathbf{\\mu})^\\intercal \\Sigma^{-1}(\\mathbf{x} - \\mathbf{\\mu})\\right]$$\n",
    "\n",
    "where $\\mathbf{\\mu} = \\mathbb{E}[\\mathbf{x}]$ is the mean and $\\mathbf{\\Sigma} = cov[\\mathbf{x}]$ is the covariance matrix."
   ]
  },
  {
   "cell_type": "code",
   "execution_count": 17,
   "metadata": {
    "collapsed": false
   },
   "outputs": [
    {
     "data": {
      "image/png": "[encoded data removed]",
      "text/plain": [
       "<matplotlib.figure.Figure at 0xb2c5128>"
      ]
     },
     "metadata": {},
     "output_type": "display_data"
    }
   ],
   "source": [
    "x = np.arange(-4.0, 4.0, 0.1)\n",
    "y = np.arange(-3.0, 3.0, 0.1)\n",
    "X, Y = np.meshgrid(x, y)\n",
    "Z = mlab.bivariate_normal(X, Y, sigmaxy=0.7)\n",
    "\n",
    "plt.contour(X,Y,Z);"
   ]
  },
  {
   "cell_type": "markdown",
   "metadata": {},
   "source": [
    "* Multivariate Student *t*\n",
    "$$P(\\mathbf{x}~|~\\mathbf{\\mu}, \\mathbf{\\Sigma}, \\nu) = \\frac{\\Gamma(\\nu/2 + D/2)}{\\Gamma(\\nu/2)}~\\big|\\pi \\mathbf{V}\\big|^{-1/2} \\times \\left[1 + (\\mathbf{\\mathbf{x}} - \\mathbf{\\mu})^\\intercal \\mathbf{V}^{-1}(\\mathbf{\\mathbf{x}} - \\mathbf{\\mu})\\right]^{-\\frac{\\nu+D}{2}}$$\n",
    "\n",
    "Where $\\Sigma$ is called \\emph{scale matrix}, $\\nu$ is a scalar that controls how fat the tails of the distribution are (the bigger it is, the slimmer are the tails, and the distribution tends to the multivariate normal) and $V = \\nu\\Sigma$. this distributions has the following properties: $\\mu$ is the mean and also the median, and $\\frac{\\nu}{\\nu - 2}\\Sigma$.\n",
    "\n",
    "* Dirichlet\n",
    "$$P(x~|~\\alpha) = \\frac{1}{B(\\alpha)} \\prod_{k=1}^{K} x_k^{\\alpha_k - 1} \\mathbb{I}(x \\in S_k)$$\n",
    "\n",
    "where $S_k = \\left\\{x: 0 \\leq x_k \\leq 1, \\sum_{k=1}^{K}  x_k = 1\\right\\}$ is the support of the distribution and $B(\\alpha) = \\frac{\\prod_{k=1}^{K} \\Gamma(\\alpha_k)}{\\Gamma\\left(\\sum_{k=1}^{K} \\alpha_k\\right)}$ is the beta function for N variables."
   ]
  },
  {
   "cell_type": "markdown",
   "metadata": {},
   "source": [
    "## Central limit theorem"
   ]
  },
  {
   "cell_type": "markdown",
   "metadata": {},
   "source": [
    "Consider $N$ idenpendent and identically distributed random varibles with pdf $p(x_i)$ (not necessarily gaussian) with mean $\\mu$ and variance $\\sigma^2$. Let $S_N = \\sum_{i=1}^{N} X_i$ be the sum of these random variable. the central limit theorem states that:\n",
    "\n",
    "$$P(S_N = s) = \\frac{1}{\\sqrt{2\\pi N\\sigma^2}}\\exp\\left(-\\frac{(s - N\\mu)^2}{2N\\sigma^2}\\right)$$\n",
    "\n",
    "That is, the distribution of\n",
    "\n",
    "$$Z_N = \\frac{S_N - N\\mu}{\\sigma\\sqrt{N}} = \\frac{\\bar{X} - \\mu}{\\sigma/\\sqrt{N}}$$\n",
    "\n",
    "where \\bar{X} is the empirical mean, converges to the standard normal."
   ]
  },
  {
   "cell_type": "markdown",
   "metadata": {},
   "source": [
    "## Transformation of random variables"
   ]
  },
  {
   "cell_type": "markdown",
   "metadata": {},
   "source": [
    "### Linear tranformations\n",
    "\n",
    "If $\\mathbf{y} = f(\\mathbf{x}) = \\mathbf{A}\\mathbf{x} + \\mathbf{b}$ then:\n",
    "\n",
    "$$\\mathbb{E}[\\mathbf{y}] = \\mathbf{A}\\mathbf{\\mu} + \\mathbf{b}$$\n",
    "$$\\mathrm{cov}[y] = \\mathbf{A} \\mathbf{\\Sigma} \\mathbf{A}^\\intercal$$\n",
    "\n",
    "### General tranformations\n",
    "\n",
    "\n",
    "#### Discrete random variable\n",
    "\n",
    "If $X$ is a discrete random variable, we can derive the pdf of $y = f(x)$ by summing up the probability mass for all $x$ such that $f(x) = y$:\n",
    "\n",
    "$$P(y) = \\sum_{x:~f(x)=y} P(x)$$\n",
    "\n",
    "#### Continuous random variable\n",
    "\n",
    "If X is continuous we work with the cdf and do instead:\n",
    "\n",
    "$$P_y(y) = P_y(f(X) \\leq y) = P_y(X \\leq f^{-1}(y)) = P_y(f^{-1}(y))$$\n",
    "\n",
    "Taking the derivatives we get:\n",
    "\n",
    "$$p_y(y) = p_x(x) \\left|\\frac{dx}{dy}\\right|$$\n",
    "\n",
    "#### Multivariate transformation\n",
    "\n",
    "If $X$ is a multivariate continuous random variable we get:\n",
    "\n",
    "$$p_y(y) = p_x(x) \\left|\\mathrm{det} ~ \\mathbf{J}_{\\mathbf{y} \\rightarrow \\mathbf{x}}\\right|$$\n",
    "\n",
    "Where $\\mathbf{J}$ is the jacobian matrix."
   ]
  },
  {
   "cell_type": "markdown",
   "metadata": {},
   "source": [
    "## Monte Carlo Methods"
   ]
  },
  {
   "cell_type": "markdown",
   "metadata": {},
   "source": [
    "## Information Theory"
   ]
  },
  {
   "cell_type": "markdown",
   "metadata": {},
   "source": [
    "### Entropy"
   ]
  },
  {
   "cell_type": "markdown",
   "metadata": {},
   "source": [
    "### KL divergence"
   ]
  },
  {
   "cell_type": "markdown",
   "metadata": {},
   "source": [
    "### Mutual information"
   ]
  }
 ],
 "metadata": {
  "kernelspec": {
   "display_name": "Python 3",
   "language": "python",
   "name": "python3"
  },
  "language_info": {
   "codemirror_mode": {
    "name": "ipython",
    "version": 3
   },
   "file_extension": ".py",
   "mimetype": "text/x-python",
   "name": "python",
   "nbconvert_exporter": "python",
   "pygments_lexer": "ipython3",
   "version": "3.4.4"
  }
 },
 "nbformat": 4,
 "nbformat_minor": 0
}
