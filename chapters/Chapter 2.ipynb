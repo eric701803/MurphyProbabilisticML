{
 "cells": [
  {
   "cell_type": "code",
   "execution_count": 2,
   "metadata": {
    "collapsed": true
   },
   "outputs": [],
   "source": [
    "%matplotlib inline\n",
    "import numpy as np\n",
    "import pandas as pd\n",
    "import matplotlib.pyplot as plt"
   ]
  },
  {
   "cell_type": "markdown",
   "metadata": {},
   "source": [
    "# Chapter 2 - Probability\n",
    "\n",
    "This chapter introduces probability theory (and the differences between frequentists and baysians), some common statistics and examples of discrete and continous distributions. It also presents transformation of variables, monte carlo methods and information theory."
   ]
  },
  {
   "cell_type": "markdown",
   "metadata": {},
   "source": [
    "## Rules of probability\n",
    "\n",
    "### Sum rule\n",
    "The probability of the conjunction of two events (or assertions) is given by: \n",
    "\n",
    "$$p(A\\ or\\ B) = p(A) + p(B) - p(A\\ and\\ B)$$\n",
    "\n",
    "### Product rule\n",
    "The probability of the event $A$ and $B$ is given by:\n",
    "\n",
    "$$p(A\\ and\\ B) = p(A|B)p(B)$$ \n",
    "\n",
    "### Conditional\n",
    "The probability of the event $A$ given that the event $B$ is true is given by:\n",
    "\n",
    "\n",
    "$$p(A|B) = \\frac{p(A\\ and\\ B)}{p(B)}$$\n",
    "\n",
    "### Bayes rule\n",
    "The Bayes rule is:\n",
    "\n",
    "$$p(X|Y) = \\frac{p(X)p(Y|X)}{p(Y)}$$\n",
    "\n",
    "This can be derived from the sum and the product rule"
   ]
  },
  {
   "cell_type": "markdown",
   "metadata": {},
   "source": [
    "## Independence\n",
    "\n",
    "The events $A$ and $B$ are independent if:\n",
    "    \n",
    "$$p(A\\ and\\ B) = p(A)p(B)$$\n",
    "\n",
    "Note that this is basically the product rule, with the condition that $p(A|B) = p(A)$."
   ]
  },
  {
   "cell_type": "markdown",
   "metadata": {},
   "source": [
    "## Continuous random variables\n",
    "\n",
    "To deal with continuous random variables we define $F(x) = p(X\\leq x)$. This means that:\n",
    "\n",
    "$$p(a < X \\leq b) = F(b) - F(a)$$"
   ]
  },
  {
   "cell_type": "markdown",
   "metadata": {},
   "source": [
    "## Common Statistics\n",
    "\n",
    "### Quantiles\n",
    "\n",
    "The $\\alpha$ quantile of a cdf $F$, denoted $F^{-1}(\\alpha)$, is the value $x_\\alpha$ such that\n",
    "\n",
    "$$F(x_\\alpha) = P(X \\leq x_\\alpha) = \\alpha$$\n",
    "\n",
    "The value $F^{-1}(0.5)$ is the **median** of the distribution.\n",
    "\n",
    "### Mean\n",
    "\n",
    "The **mean** or **expected value** of a discrete distribution, commonly denoted by $\\mu$, is defined as\n",
    "\n",
    "$$\\mathbb{E}[X] = \\sum_{x\\in\\mathcal{X}}x~p(x)$$\n",
    "\n",
    "Whereas for a continuous distribution, the mean is defined as\n",
    "\n",
    "$$\\mathbb{E}[X] = \\int_{\\mathcal{X}}x~p(x)$$\n",
    "\n",
    "### Variance\n",
    "\n",
    "The **variance**, denoted by $\\sigma^2$, is measure of the \"spread\" of a distribution, defined as\n",
    "\n",
    "$$\\sigma^2 = \\mathrm{var}[X] = \\mathbb{E}{(X-\\mu)^2}$$\n",
    "\n",
    "where $\\mu = \\mathbb{E}[X]$. A useful result is\n",
    "\n",
    "$$\\mathbb{E}[X^2] = \\sigma^2 + \\mu^2$$\n",
    "\n",
    "The **standard deviation** is defined as $\\mathrm{std}[X] = \\sqrt{\\sigma^2} = \\sigma$"
   ]
  },
  {
   "cell_type": "markdown",
   "metadata": {},
   "source": [
    "## Common discrete distributions\n",
    "\n",
    "* Bernoulli:\n",
    "\n",
    "$$\\mathrm{Ber}(x~|~\\theta) =\n",
    "    \\left\\{\n",
    "    \\begin{array}{ll}\n",
    "\t\t\\theta  & \\mbox{if } x = 1 \\\\\n",
    "\t\t1-\\theta & \\mbox{if } x = 0\n",
    "\t\\end{array}\n",
    "    \\right.\n",
    "$$\n",
    "\n",
    " \n",
    "\n",
    "* Binomial:\n",
    "\n",
    "$$\\mathrm{Bin}(k~|~n,\\theta) = \\binom{n}{k}\\theta^k(1-\\theta)^{n-k}$$\n",
    "\n",
    "* Multinomial:\n",
    "\n",
    "$$\\mathrm{Mu}(x~|~n,\\theta) = \\binom{n}{x_1,...,x_K}\\prod_{j=1}^{K}\\theta_{j}^{x_j}$$\n",
    "\n",
    "the **multinomial coeffiecient** is defined as\n",
    "\n",
    "$$\\binom{n}{x_1,...,x_K} = \\frac{n!}{x_1! \\dots x_K!}$$\n",
    "\n",
    "* Poisson\n",
    "\n",
    "$$\\mathrm{Poi}(x~|~\\lambda) = e^{-\\lambda}\\frac{\\lambda^x}{x!}$$\n",
    "\n",
    "* Empirical distribution\n",
    "\n",
    "Given a dataset $\\mathcal{D} = \\{x_1, \\dots, x_N\\}$, the empirical distribution is defined as\n",
    "\n",
    "$$p_{\\mathrm{emp}}(A) = \\frac{1}{N}\\sum_{i=1}^{N}w_i \\delta_{x_i}(A)$$\n",
    "\n",
    "where $0\\leq w_i \\leq 1$ and $\\sum w_i = 1$"
   ]
  },
  {
   "cell_type": "markdown",
   "metadata": {},
   "source": [
    "## Common continuous distributions\n",
    "\n",
    "* Normal\n",
    "* Laplace\n",
    "* Gamma\n",
    "* Exponential\n",
    "* Chi-squared\n",
    "* Beta\n",
    "* Pareto\n",
    "* Student *t*\n",
    "* Multivariate Normal\n",
    "* Multivariate Student *t*\n",
    "* Dirichlet"
   ]
  },
  {
   "cell_type": "markdown",
   "metadata": {},
   "source": [
    "## Joint probability distributions"
   ]
  },
  {
   "cell_type": "markdown",
   "metadata": {},
   "source": [
    "## Transformation of random variables"
   ]
  },
  {
   "cell_type": "markdown",
   "metadata": {},
   "source": [
    "## Monte Carlo Methods"
   ]
  },
  {
   "cell_type": "markdown",
   "metadata": {},
   "source": [
    "## Information Theory"
   ]
  },
  {
   "cell_type": "code",
   "execution_count": null,
   "metadata": {
    "collapsed": true
   },
   "outputs": [],
   "source": []
  }
 ],
 "metadata": {
  "kernelspec": {
   "display_name": "Python 3",
   "language": "python",
   "name": "python3"
  },
  "language_info": {
   "codemirror_mode": {
    "name": "ipython",
    "version": 3
   },
   "file_extension": ".py",
   "mimetype": "text/x-python",
   "name": "python",
   "nbconvert_exporter": "python",
   "pygments_lexer": "ipython3",
   "version": "3.5.1"
  }
 },
 "nbformat": 4,
 "nbformat_minor": 0
}
