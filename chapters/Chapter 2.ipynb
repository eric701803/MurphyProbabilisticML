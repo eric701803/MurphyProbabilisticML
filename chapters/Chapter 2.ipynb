{
 "cells": [
  {
   "cell_type": "code",
   "execution_count": 2,
   "metadata": {
    "collapsed": true
   },
   "outputs": [],
   "source": [
    "%matplotlib inline\n",
    "import numpy as np\n",
    "import pandas as pd\n",
    "import matplotlib.pyplot as plt"
   ]
  },
  {
   "cell_type": "markdown",
   "metadata": {},
   "source": [
    "# Chapter 2 - Probability\n",
    "\n",
    "This chapter introduces probability theory (and the differences between frequentists and baysians), some common statistics and examples of discrete and continous distributions. It also presents transformation of variables, monte carlo methods and information theory."
   ]
  },
  {
   "cell_type": "markdown",
   "metadata": {},
   "source": [
    "## Rules of probability\n",
    "\n",
    "### Sum rule\n",
    "The probability of the conjunction of two events (or assertions) is given by: \n",
    "\n",
    "$$p(A\\ or\\ B) = p(A) + p(B) - p(A\\ and\\ B)$$\n",
    "\n",
    "### Product rule\n",
    "The probability of the event $A$ and $B$ is given by:\n",
    "\n",
    "$$p(A\\ and\\ B) = p(A|B)p(B)$$ \n",
    "\n",
    "### Conditional\n",
    "The probability of the event $A$ given that the event $B$ is true is given by:\n",
    "\n",
    "\n",
    "$$p(A|B) = \\frac{p(A\\ and\\ B)}{p(B)}$$\n",
    "\n",
    "### Bayes rule\n",
    "The Bayes rule is:\n",
    "\n",
    "$$p(X|Y) = \\frac{p(X)p(Y|X)}{p(Y)}$$\n",
    "\n",
    "This can be derived from the sum and the product rule"
   ]
  },
  {
   "cell_type": "markdown",
   "metadata": {},
   "source": [
    "## Independence\n",
    "\n",
    "The events $A$ and $B$ are independent if:\n",
    "    \n",
    "$$p(A\\ and\\ B) = p(A)p(B)$$\n",
    "\n",
    "Note that this is basically the product rule, with the condition that $p(A|B) = p(A)$."
   ]
  },
  {
   "cell_type": "markdown",
   "metadata": {},
   "source": [
    "## Continuous random variables\n",
    "\n",
    "To deal with continuous random variables we define $F(x) = p(X<x)$. This means that:\n",
    "\n",
    "$$p(a \\leq X \\leq b) = F(b) - F(a)$$"
   ]
  },
  {
   "cell_type": "markdown",
   "metadata": {},
   "source": [
    "## Common Statistics\n",
    "\n",
    "### Quantiles\n",
    "\n",
    "### Mean\n",
    "\n",
    "### Variance"
   ]
  },
  {
   "cell_type": "markdown",
   "metadata": {},
   "source": [
    "## Common discrete distributions\n",
    "\n"
   ]
  },
  {
   "cell_type": "markdown",
   "metadata": {},
   "source": [
    "## Common continuous distributions"
   ]
  },
  {
   "cell_type": "markdown",
   "metadata": {},
   "source": [
    "## Joint probability distributions"
   ]
  },
  {
   "cell_type": "markdown",
   "metadata": {},
   "source": [
    "## Transformation of random variables"
   ]
  },
  {
   "cell_type": "markdown",
   "metadata": {},
   "source": [
    "## Monte Carlo Methods"
   ]
  },
  {
   "cell_type": "markdown",
   "metadata": {},
   "source": [
    "## Information Theory"
   ]
  },
  {
   "cell_type": "code",
   "execution_count": null,
   "metadata": {
    "collapsed": true
   },
   "outputs": [],
   "source": []
  }
 ],
 "metadata": {
  "kernelspec": {
   "display_name": "Python 3",
   "language": "python",
   "name": "python3"
  },
  "language_info": {
   "codemirror_mode": {
    "name": "ipython",
    "version": 3
   },
   "file_extension": ".py",
   "mimetype": "text/x-python",
   "name": "python",
   "nbconvert_exporter": "python",
   "pygments_lexer": "ipython3",
   "version": "3.5.1"
  }
 },
 "nbformat": 4,
 "nbformat_minor": 0
}
