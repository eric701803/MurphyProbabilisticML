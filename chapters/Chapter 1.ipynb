{
 "cells": [
  {
   "cell_type": "code",
   "execution_count": 1,
   "metadata": {
    "collapsed": true
   },
   "outputs": [],
   "source": [
    "%matplotlib inline\n",
    "import numpy as np\n",
    "import pandas as pd\n",
    "import matplotlib.pyplot as plt"
   ]
  },
  {
   "cell_type": "markdown",
   "metadata": {},
   "source": [
    "# Introduction to Machine Learning\n",
    "\n",
    "This chapter introduces some common concepts about learning (such as supervised and unsupervised learning) and some simples applications."
   ]
  },
  {
   "cell_type": "markdown",
   "metadata": {},
   "source": [
    "### Supervised Learning\n",
    "\n",
    "* Classification (labels)\n",
    "* Regression (real)\n",
    "\n",
    "Learn when we have a dataset with points and true responses variables. If we use a probabilistic approach to this kind of inference, we want to find the probability distribution of the response $y$ given the training dataset $\\mathcal{D}$  and a new point $x$ outside of it.\n",
    "\n",
    "$$p(y|x, \\mathcal{D})$$\n",
    "\n",
    "A good guess $\\hat{y}$ for $y$ is the Maximum a Posteriori estimator:\n",
    "\n",
    "$$\\underset{c}{\\mathrm{argmax}}\\ p(y = c|x, \\mathcal{D})$$"
   ]
  },
  {
   "cell_type": "markdown",
   "metadata": {},
   "source": [
    "### Unsupervised Learning\n",
    "\n",
    "* Clustering\n",
    "* Dimensionality Reduction / Latent variables\n",
    "* Discovering graph structure\n",
    "* Matrix completions"
   ]
  },
  {
   "cell_type": "markdown",
   "metadata": {},
   "source": [
    "### Parametric models\n",
    "\n",
    "These models have a finite (and fixed) number of parameters.\n",
    "Examples:\n",
    "* **Linear regression**:\n",
    "$$y(\\mathbf{x}) = \\mathbf{w}^\\intercal\\mathbf{x} + \\epsilon$$\n",
    "\n",
    "    Which can be written as\n",
    "\n",
    "$$p(y\\ |\\ x, \\theta) = \\mathcal{N}(y\\ |\\ \\mu(x), \\sigma^2) = \\mathcal{N}(y\\ |\\ w^\\intercal x, \\sigma^2)$$"
   ]
  },
  {
   "cell_type": "code",
   "execution_count": 27,
   "metadata": {
    "collapsed": false
   },
   "outputs": [],
   "source": [
    "%run ../src/LinearRegression.py\n",
    "%run ../src/PolynomialFeatures.py\n",
    "\n",
    "# LINEAR REGRESSION\n",
    "\n",
    "# Generate random data\n",
    "X = np.linspace(0,20,10)[:,np.newaxis]\n",
    "y = 0.1*(X**2) + np.random.normal(0,2,10)[:,np.newaxis]\n",
    "\n",
    "# Fit model to data\n",
    "lr = LinearRegression()\n",
    "lr.fit(X,y)\n",
    "\n",
    "# Predict new data\n",
    "x_test = np.array([0,20])[:,np.newaxis]\n",
    "y_predict = lr.predict(x_test)\n",
    "\n",
    "\n",
    "# POLYNOMIAL REGRESSION\n",
    "\n",
    "# Fit model to data\n",
    "poly = PolynomialFeatures(2)\n",
    "lr = LinearRegression()\n",
    "lr.fit(poly.fit_transform(X),y)\n",
    "\n",
    "# Predict new data\n",
    "x_pol = np.linspace(0, 20, 100)[:, np.newaxis]\n",
    "y_pol = lr.predict(poly.fit_transform(x_pol))"
   ]
  },
  {
   "cell_type": "code",
   "execution_count": 29,
   "metadata": {
    "collapsed": false
   },
   "outputs": [
    {
     "data": {
      "image/png": "[encoded data removed]",
      "text/plain": [
       "<matplotlib.figure.Figure at 0x7f14ef9bf358>"
      ]
     },
     "metadata": {},
     "output_type": "display_data"
    }
   ],
   "source": [
    "# Plot data\n",
    "\n",
    "fig = plt.figure(figsize=(14, 6))\n",
    "\n",
    "# Plot linear regression\n",
    "ax1 = fig.add_subplot(1, 2, 1)\n",
    "plt.scatter(X,y)\n",
    "plt.plot(x_test, y_predict, \"r\")\n",
    "plt.xlim(0, 20)\n",
    "plt.ylim(0, 50)\n",
    "\n",
    "# Plot polynomial regression\n",
    "\n",
    "ax2 = fig.add_subplot(1, 2, 2)\n",
    "plt.scatter(X,y)\n",
    "plt.plot(x_pol, y_pol, \"r\")\n",
    "plt.xlim(0, 20)\n",
    "plt.ylim(0, 50);"
   ]
  },
  {
   "cell_type": "markdown",
   "metadata": {},
   "source": [
    "* **Logistic regression**:\n",
    "    Despite the name, this is a classification model\n",
    "    \n",
    "$$p(y\\ |\\ x, w) = \\mathrm{Ber}(y\\ |\\ \\mu(x)) = \\mathrm{Ber}(y\\ |\\ \\mathrm{sigm}(w^\\intercal x))$$\n",
    "    \n",
    "    where\n",
    "    \n",
    "$$\\displaystyle \\mathrm{sigm}(x) = \\frac{e^x}{1+e^x}$$"
   ]
  },
  {
   "cell_type": "markdown",
   "metadata": {},
   "source": [
    "### Non-parametric models\n",
    "\n",
    "These models don't have a finite number of parameters. For example the number of parameters increase with the amount of training data, as in KNN:\n",
    "\n",
    "$$p(y=c\\ |\\ x, \\mathcal{D}, K) = \\frac{1}{K} \\sum_{i \\in N_K(x, \\mathcal{D})} \\mathbb{I}(y_i = c)$$"
   ]
  },
  {
   "cell_type": "code",
   "execution_count": 31,
   "metadata": {
    "collapsed": true
   },
   "outputs": [],
   "source": [
    "%run ../src/KNearestNeighbors.py\n",
    "\n",
    "# Generate data from 3 gaussians\n",
    "gaussian_1 = np.random.multivariate_normal(np.array([1, 0.0]), np.eye(2)*0.01, size=100)\n",
    "gaussian_2 = np.random.multivariate_normal(np.array([0.0, 1.0]), np.eye(2)*0.01, size=100)\n",
    "gaussian_3 = np.random.multivariate_normal(np.array([0.1, 0.1]), np.eye(2)*0.001, size=100)\n",
    "X = np.vstack((gaussian_1, gaussian_2, gaussian_3))\n",
    "y = np.array([1]*100 + [2]*100 + [3]*100)\n",
    "\n",
    "# Fit the model\n",
    "knn = KNearestNeighbors(5)\n",
    "knn.fit(X, y)\n",
    "\n",
    "# Predict various points in space\n",
    "XX, YY = np.mgrid[-5:5:.2, -5:5:.2]\n",
    "X_test = np.hstack((XX.ravel()[:, np.newaxis], YY.ravel()[:, np.newaxis]))\n",
    "y_test = knn.predict(X_test)"
   ]
  },
  {
   "cell_type": "code",
   "execution_count": null,
   "metadata": {
    "collapsed": false
   },
   "outputs": [
    {
     "data": {
      "text/plain": [
       "<matplotlib.contour.QuadContourSet at 0x7f14ef277940>"
      ]
     },
     "execution_count": 48,
     "metadata": {},
     "output_type": "execute_result"
    }
   ],
   "source": [
    "fig = plt.figure(figsize=(14, 6))\n",
    "\n",
    "# Plot original data\n",
    "ax1 = fig.add_subplot(1, 2, 1)\n",
    "ax1.plot(X[y == 1,0], X[y == 1,1], 'ro')\n",
    "ax1.plot(X[y == 2,0], X[y == 2,1], 'bo')\n",
    "ax1.plot(X[y == 3,0], X[y == 3,1], 'go')\n",
    "\n",
    "# Plot predicted data\n",
    "ax2 = fig.add_subplot(1, 2, 2)\n",
    "ax2.contourf(XX, YY, y_test.reshape(50,50), cmap=plt.cm.Spectral)\n",
    "# ax2.plot(X_test[y_test == 1,0], X_test[y_test == 1,1], 'ro')\n",
    "# ax2.plot(X_test[y_test == 2,0], X_test[y_test == 2,1], 'bo')\n",
    "# ax2.plot(X_test[y_test == 3,0], X_test[y_test == 3,1], 'go')"
   ]
  },
  {
   "cell_type": "markdown",
   "metadata": {},
   "source": [
    "### Curse of dimensionality\n",
    "\n",
    "The *curse of dimensionality* refers to a series of problems that arise only when dealing with high dimensional data sets. For example, in the KNN model, if we assume the data is uniformly distributed over a $N$-dimensional cube (with high $N$), then most of the points are near its faces. Therefore, KNN loses its locality property."
   ]
  }
 ],
 "metadata": {
  "kernelspec": {
   "display_name": "Python 3",
   "language": "python",
   "name": "python3"
  },
  "language_info": {
   "codemirror_mode": {
    "name": "ipython",
    "version": 3
   },
   "file_extension": ".py",
   "mimetype": "text/x-python",
   "name": "python",
   "nbconvert_exporter": "python",
   "pygments_lexer": "ipython3",
   "version": "3.5.1"
  }
 },
 "nbformat": 4,
 "nbformat_minor": 0
}
